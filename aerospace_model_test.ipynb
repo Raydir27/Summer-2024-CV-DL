{
 "cells": [
  {
   "cell_type": "code",
   "execution_count": null,
   "id": "c16a56ab-cd8e-4e5b-bf44-13e41b48cde1",
   "metadata": {},
   "outputs": [],
   "source": [
    "import tensorflow as tf\n",
    "import cv2\n",
    "import os\n",
    "from keras.preprocessing import image\n",
    "from keras.utils import load_img, img_to_array\n",
    "import numpy as np\n",
    "\n",
    "IMG_SIZE  = 224\n",
    "\n",
    "ImagesFolder = \"aerospace_images\"\n",
    "CLASSES = os.listdir(ImagesFolder)\n",
    "num_classes = len(CLASSES)\n",
    "print(CLASSES)"
   ]
  },
  {
   "cell_type": "code",
   "execution_count": null,
   "id": "032e5703-d1fe-4c76-ba2c-a2d3af40d3c0",
   "metadata": {},
   "outputs": [],
   "source": [
    "a_model_file = \"C:\\Users\\Rajarshi\\Downloads\\Programs\\air_vgg19.h5\"\n",
    "model = tf.keras.models.load_model(a_model_file)\n",
    "print(model.summary())"
   ]
  },
  {
   "cell_type": "code",
   "execution_count": null,
   "id": "b21efc8b-9a23-4b6b-9d5f-530f1a3948ed",
   "metadata": {},
   "outputs": [],
   "source": [
    "def prepareImage(pathForImage):\n",
    "    image = load_img(pathForImage, target_size=(IMAGE_SIZE, IMAGE_SIZE))\n",
    "    imgResult = img_to_array(image)\n",
    "    imgResult = np.expand_dims(imgResult, axis=0)\n",
    "    imgResult = imgResult/255\n",
    "    return imgResult\n",
    "\n",
    "textImagePath = \"goodyear.jpg\"\n",
    "\n",
    "img = cv2.imread(testImagePath)\n",
    "imgForModel = prepareImage(testImgPath)\n",
    "\n",
    "resultArray = model.predict(imgForModel, verbose=1)\n",
    "answer = np.argmax(resultArray, axis=1)\n",
    "\n",
    "print(answer)"
   ]
  }
 ],
 "metadata": {
  "kernelspec": {
   "display_name": "Python 3 (ipykernel)",
   "language": "python",
   "name": "python3"
  },
  "language_info": {
   "codemirror_mode": {
    "name": "ipython",
    "version": 3
   },
   "file_extension": ".py",
   "mimetype": "text/x-python",
   "name": "python",
   "nbconvert_exporter": "python",
   "pygments_lexer": "ipython3",
   "version": "3.12.3"
  }
 },
 "nbformat": 4,
 "nbformat_minor": 5
}
